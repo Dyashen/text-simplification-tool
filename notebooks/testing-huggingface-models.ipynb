{
 "cells": [
  {
   "attachments": {},
   "cell_type": "markdown",
   "metadata": {},
   "source": [
    "### API\n",
    "\n",
    "De modellen van HuggingFace kunnen via een *inference api* worden aangesproken. Op deze manier wordt een getraind taalmodel aangesproken zonder dat deze lokaal moet worden opgeslaan. Bij een prototype bespaart dit zowel tijd als memory space."
   ]
  },
  {
   "cell_type": "code",
   "execution_count": 18,
   "metadata": {},
   "outputs": [],
   "source": [
    "import configparser\n",
    "import time, json, requests, csv\n",
    "from langdetect import detect\n",
    "from googletrans import Translator\n",
    "import pandas as pd\n",
    "\n",
    "dict = {\n",
    "    'sc':\"https://api-inference.huggingface.co/models/haining/scientific_abstract_simplification\",\n",
    "    'bart':\"https://api-inference.huggingface.co/models/facebook/bart-large-cnn\",\n",
    "    'bart-sc': \"https://api-inference.huggingface.co/models/sambydlo/bart-large-scientific-lay-summarisation\",\n",
    "    't5':\"https://api-inference.huggingface.co/models/mrm8488/t5-base-finetuned-summarize-news\",\n",
    "    'kis': \"https://api-inference.huggingface.co/models/philippelaban/keep_it_simple\",\n",
    "    'gpt-2':'https://api-inference.huggingface.co/models/gpt2',\n",
    "    'gpt-2-ft': \"https://api-inference.huggingface.co/models/gavin124/gpt2-finetuned-cnn-summarization-v2\"\n",
    "}\n",
    "\n",
    "\n",
    "import requests"
   ]
  },
  {
   "cell_type": "code",
   "execution_count": 10,
   "metadata": {},
   "outputs": [],
   "source": [
    "config = configparser.ConfigParser()\n",
    "config.read('../web-app/config.ini')\n",
    "global huggingface_api_key\n",
    "huggingface_api_key = config['huggingface']['api_key']"
   ]
  },
  {
   "cell_type": "code",
   "execution_count": 11,
   "metadata": {},
   "outputs": [],
   "source": [
    "global google_translate\n",
    "google_translate = Translator()"
   ]
  },
  {
   "cell_type": "code",
   "execution_count": 12,
   "metadata": {},
   "outputs": [],
   "source": [
    "def query(payload, API_URL):\n",
    "    headers = {\"Authorization\": f\"Bearer {huggingface_api_key}\"}\n",
    "    response = requests.post(API_URL, headers=headers, json=payload)\n",
    "    return response.json()"
   ]
  },
  {
   "cell_type": "code",
   "execution_count": 13,
   "metadata": {},
   "outputs": [],
   "source": [
    "def summarize(text, key):\n",
    "        origin_lang = detect(text)\n",
    "\n",
    "        if origin_lang in ['fr','nl','de']:\n",
    "            text = google_translate.translate(text=text,src=origin_lang,dest='en').text\n",
    "        elif origin_lang not in ['fr','nl','de','en']:\n",
    "            text = google_translate.translate(text=text,src='en',dest='en').text\n",
    "\n",
    "        length = len(text)\n",
    "\n",
    "        API_URL = dict.get(key)\n",
    "        i = 0\n",
    "        while True and i < 3:\n",
    "            output = query({\n",
    "                \"inputs\": text,\n",
    "                \"parameters\": {\n",
    "                    \"repetition_penalty\": 4.0,\n",
    "                    \"max_length\": length+10\n",
    "                }\n",
    "            }, API_URL)\n",
    "\n",
    "            response = output\n",
    "            \n",
    "            if 'error' not in response:\n",
    "                break\n",
    "            else:\n",
    "                i += 1\n",
    "                try:\n",
    "                    time.sleep(float(response.get('estimated_time')))\n",
    "                except:\n",
    "                    time.sleep(20)\n",
    "        \n",
    "        response = output[0]\n",
    "                \n",
    "        if 'generated_text' in output[0]:\n",
    "            text = output[0].get('generated_text')\n",
    "\n",
    "        if 'summary_text' in output[0]:\n",
    "            text = output[0].get('summary_text')\n",
    "\n",
    "        if origin_lang != 'en':\n",
    "            text = google_translate.translate(text=text,src=\"en\", dest=origin_lang).text\n",
    "\n",
    "        return text"
   ]
  },
  {
   "cell_type": "code",
   "execution_count": 16,
   "metadata": {},
   "outputs": [],
   "source": [
    "sentences = [\n",
    "    \"De gedesoriënteerde amfibie verorbert haar nutritievolle maaltijd.\",\n",
    "    \"Desalniettemin werd de implementatie van de voorgestelde maatregelen vertraagd door bureaucratische obstakels.\",\n",
    "    \"Ondanks het feit dat de resultaten van het onderzoek veelbelovend waren, waren er nog steeds enkele beperkingen die verder onderzoek vereisten.\",\n",
    "    \"De commissie concludeerde dat de huidige regelgeving onvoldoende was om de problemen adequaat aan te pakken.\",\n",
    "    \"Het is van cruciaal belang dat er rekening wordt gehouden met de potentiële gevolgen van dergelijke beslissingen op lange termijn.\",\n",
    "    \"De complexiteit van de situatie vereiste een zorgvuldige afweging van alle beschikbare opties.\",\n",
    "    \"De voortdurende ontwikkelingen in de technologie hebben geleid tot aanzienlijke veranderingen in de manier waarop we communiceren en informatie delen.\",\n",
    "    \"Het is belangrijk om te benadrukken dat dergelijke initiatieven alleen succesvol kunnen zijn als er voldoende steun is van alle betrokken partijen.\",\n",
    "    \"De analyse toonde aan dat er aanzienlijke verschillen waren tussen de verschillende groepen in termen van hun percepties en attitudes.\",\n",
    "    \"Er is een groeiende bezorgdheid over de impact van klimaatverandering op onze planeet en de noodzaak om actie te ondernemen.\",\n",
    "    \"Het is essentieel dat we ons blijven inzetten voor het bevorderen van duurzame ontwikkeling en het beschermen van onze natuurlijke hulpbronnen.\"\n",
    "]\n",
    "\n",
    "\n",
    "for i in dict.keys():\n",
    "    for s in sentences:\n",
    "        try:\n",
    "            result = summarize(f\"Summarize this in Dutch: {s}\", i)\n",
    "            with open('output.csv', mode='a') as file:\n",
    "                writer = csv.writer(file)\n",
    "                writer.writerow([i, s])\n",
    "        except Exception as e:\n",
    "            print(e)\n",
    "\n"
   ]
  },
  {
   "cell_type": "code",
   "execution_count": 21,
   "metadata": {},
   "outputs": [
    {
     "data": {
      "text/html": [
       "<div>\n",
       "<style scoped>\n",
       "    .dataframe tbody tr th:only-of-type {\n",
       "        vertical-align: middle;\n",
       "    }\n",
       "\n",
       "    .dataframe tbody tr th {\n",
       "        vertical-align: top;\n",
       "    }\n",
       "\n",
       "    .dataframe thead th {\n",
       "        text-align: right;\n",
       "    }\n",
       "</style>\n",
       "<table border=\"1\" class=\"dataframe\">\n",
       "  <thead>\n",
       "    <tr style=\"text-align: right;\">\n",
       "      <th></th>\n",
       "      <th>model</th>\n",
       "      <th>sentence</th>\n",
       "    </tr>\n",
       "  </thead>\n",
       "  <tbody>\n",
       "    <tr>\n",
       "      <th>0</th>\n",
       "      <td>sc</td>\n",
       "      <td>De commissie concludeerde dat de huidige regel...</td>\n",
       "    </tr>\n",
       "    <tr>\n",
       "      <th>1</th>\n",
       "      <td>sc</td>\n",
       "      <td>De gedesoriënteerde amfibie verorbert haar nut...</td>\n",
       "    </tr>\n",
       "    <tr>\n",
       "      <th>2</th>\n",
       "      <td>sc</td>\n",
       "      <td>Desalniettemin werd de implementatie van de vo...</td>\n",
       "    </tr>\n",
       "    <tr>\n",
       "      <th>3</th>\n",
       "      <td>sc</td>\n",
       "      <td>Ondanks het feit dat de resultaten van het ond...</td>\n",
       "    </tr>\n",
       "    <tr>\n",
       "      <th>4</th>\n",
       "      <td>sc</td>\n",
       "      <td>De commissie concludeerde dat de huidige regel...</td>\n",
       "    </tr>\n",
       "  </tbody>\n",
       "</table>\n",
       "</div>"
      ],
      "text/plain": [
       "  model                                           sentence\n",
       "0    sc  De commissie concludeerde dat de huidige regel...\n",
       "1    sc  De gedesoriënteerde amfibie verorbert haar nut...\n",
       "2    sc  Desalniettemin werd de implementatie van de vo...\n",
       "3    sc  Ondanks het feit dat de resultaten van het ond...\n",
       "4    sc  De commissie concludeerde dat de huidige regel..."
      ]
     },
     "execution_count": 21,
     "metadata": {},
     "output_type": "execute_result"
    }
   ],
   "source": [
    "df = pd.read_csv('output.csv', encoding = \"ISO-8859-1\", header=None, names=['model','sentence'])\n",
    "df.head()"
   ]
  },
  {
   "attachments": {},
   "cell_type": "markdown",
   "metadata": {},
   "source": [
    "Keuze tussen taalmodellen:\n",
    "\n",
    "SC en BART-SC scoren subjectief hoger dan de andere modellen. Zij bekijken enkel de gekregen zin. De andere modellen zijn eerder geneigd om extra tekst toe te voegen. Er kan niet achterhaald worden waarom dat deze extra tekst wordt meegegeven.\n",
    "BART-SC kan bijzaak behouden, terwijl SC sneller de neiging heeft om enkel de kernzaak te behouden in de vereenvoudigde tekst.\n",
    "Bij de API's moet er expliciet worden aangegeven om welke  transformatie dit gaat. \n",
    "\n",
    "Ontwikkelaars kunnen voor algemene samenvattings- en vereenvoudigingstaken gebruik maken van algemene taalmodellen die vrij beschikbaar op HuggingFace of dergelijke platforms terug te vinden zijn. GPT-3 blinkt uit in gepersonaliseerde vereenvoudigings- en samenvattingstaken. Engelstalige prompts die expliciet de uitvoertaal vermelden zijn nauwkeuriger dan Nederlandstalige prompts. "
   ]
  },
  {
   "cell_type": "code",
   "execution_count": null,
   "metadata": {},
   "outputs": [],
   "source": []
  }
 ],
 "metadata": {
  "kernelspec": {
   "display_name": "Python 3",
   "language": "python",
   "name": "python3"
  },
  "language_info": {
   "codemirror_mode": {
    "name": "ipython",
    "version": 3
   },
   "file_extension": ".py",
   "mimetype": "text/x-python",
   "name": "python",
   "nbconvert_exporter": "python",
   "pygments_lexer": "ipython3",
   "version": "3.10.11"
  },
  "orig_nbformat": 4
 },
 "nbformat": 4,
 "nbformat_minor": 2
}
